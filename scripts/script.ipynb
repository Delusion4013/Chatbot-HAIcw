{
 "cells": [
  {
   "cell_type": "markdown",
   "metadata": {},
   "source": [
    "## Preproessing QA databse\n",
    "\n",
    "Used to convert the `qa.csv` database into json format."
   ]
  },
  {
   "cell_type": "code",
   "execution_count": null,
   "metadata": {},
   "outputs": [],
   "source": [
    "import csv\n",
    "import json\n",
    "\n",
    "raw = []\n",
    "index = []\n",
    "question = []\n",
    "answer = []\n",
    "document = []\n",
    "\n",
    "with open('data/qa.csv', 'r', encoding='utf8', errors='ignore') as fin:\n",
    "    reader = csv.reader(fin)\n",
    "    head = next(reader)     # Skip the header line\n",
    "    for row in reader:\n",
    "        index.append(row[0])\n",
    "        question.append(row[1])\n",
    "        answer.append(row[2])\n",
    "        document.append(row[3])\n",
    "\n",
    "dict = {'Index': index, 'Question':question, 'Answer':answer , 'Document':document}\n",
    "\n",
    "with open(\"data/qa.json\", \"w\") as f:\n",
    "    json.dump(dict, f, indent=4)"
   ]
  }
 ],
 "metadata": {
  "language_info": {
   "name": "python"
  },
  "orig_nbformat": 4
 },
 "nbformat": 4,
 "nbformat_minor": 2
}
