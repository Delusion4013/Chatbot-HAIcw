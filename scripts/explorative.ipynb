{
 "cells": [
  {
   "cell_type": "code",
   "execution_count": 1,
   "metadata": {},
   "outputs": [
    {
     "data": {
      "text/plain": [
       "['adventure',\n",
       " 'belles_lettres',\n",
       " 'editorial',\n",
       " 'fiction',\n",
       " 'government',\n",
       " 'hobbies',\n",
       " 'humor',\n",
       " 'learned',\n",
       " 'lore',\n",
       " 'mystery',\n",
       " 'news',\n",
       " 'religion',\n",
       " 'reviews',\n",
       " 'romance',\n",
       " 'science_fiction']"
      ]
     },
     "execution_count": 1,
     "metadata": {},
     "output_type": "execute_result"
    }
   ],
   "source": [
    "from nltk.corpus import brown\n",
    "\n",
    "brown.categories()"
   ]
  },
  {
   "cell_type": "code",
   "execution_count": 9,
   "metadata": {},
   "outputs": [
    {
     "data": {
      "text/plain": [
       "['It', 'was', 'among', 'these', 'that', 'Hinkle', ...]"
      ]
     },
     "execution_count": 9,
     "metadata": {},
     "output_type": "execute_result"
    }
   ],
   "source": [
    "brown.words(categories=\"humor\")"
   ]
  },
  {
   "cell_type": "code",
   "execution_count": 10,
   "metadata": {},
   "outputs": [
    {
     "data": {
      "text/plain": [
       "[('last', 'JJ'),\n",
       " ('night', 'NN'),\n",
       " ('i', 'NN'),\n",
       " ('saw', 'VBD'),\n",
       " ('a', 'DT'),\n",
       " ('black', 'JJ'),\n",
       " ('dog', 'NN'),\n",
       " ('barking', 'NN'),\n",
       " ('at', 'IN'),\n",
       " ('a', 'DT'),\n",
       " ('kid', 'NN')]"
      ]
     },
     "execution_count": 10,
     "metadata": {},
     "output_type": "execute_result"
    }
   ],
   "source": [
    "import nltk\n",
    "\n",
    "gram = (\"NP: {<DT>?<JJ>*<NN>}\")\n",
    "\n",
    "sent = \"last night i saw a black dog barking at a kid\"\n",
    "\n",
    "chunking = nltk.RegexpParser(gram)\n",
    "sent_token = nltk.word_tokenize(sent)\n",
    "tagging = nltk.pos_tag(sent_token)\n",
    "\n",
    "tagging"
   ]
  },
  {
   "cell_type": "markdown",
   "metadata": {},
   "source": [
    "## Model Construction"
   ]
  },
  {
   "cell_type": "code",
   "execution_count": 42,
   "metadata": {},
   "outputs": [],
   "source": [
    "from sklearn.feature_extraction.text import CountVectorizer\n",
    "\n",
    "raw = dict['Question']\n",
    "\n",
    "vectorizer = CountVectorizer(stop_words='english')\n",
    "X = vectorizer.fit_transform(raw)\n",
    "word = vectorizer.get_feature_names_out()\n"
   ]
  },
  {
   "cell_type": "code",
   "execution_count": 43,
   "metadata": {},
   "outputs": [
    {
     "name": "stdout",
     "output_type": "stream",
     "text": [
      "TfidfTransformer()\n",
      "[[0. 0. 0. ... 0. 0. 0.]\n",
      " [0. 0. 0. ... 0. 0. 0.]\n",
      " [0. 0. 0. ... 0. 0. 0.]\n",
      " ...\n",
      " [0. 0. 0. ... 0. 0. 0.]\n",
      " [0. 0. 0. ... 0. 0. 0.]\n",
      " [0. 0. 0. ... 0. 0. 0.]]\n"
     ]
    }
   ],
   "source": [
    "from sklearn.feature_extraction.text import TfidfTransformer\n",
    "\n",
    "transformer = TfidfTransformer()\n",
    "print(transformer)\n",
    "\n",
    "tfidf = transformer.fit_transform(X)\n",
    "print(tfidf.toarray())"
   ]
  },
  {
   "cell_type": "markdown",
   "metadata": {},
   "source": [
    "## QA dataset preprocessing"
   ]
  },
  {
   "cell_type": "code",
   "execution_count": 71,
   "metadata": {},
   "outputs": [
    {
     "name": "stdout",
     "output_type": "stream",
     "text": [
      "['how', 'african', 'americans', 'were', 'immigrated', 'to', 'the', 'us']\n"
     ]
    }
   ],
   "source": [
    "import nltk\n",
    "\n",
    "tokenizer = nltk.RegexpTokenizer(r\"\\w+\")\n",
    "tok_documents = []\n",
    "\n",
    "idx = 0\n",
    "for elem in dict['Question']:\n",
    "    tok_documents.append(tokenizer.tokenize(elem.lower()))\n",
    "    # idx += 1\n",
    "print(tok_documents[0])\n"
   ]
  },
  {
   "cell_type": "code",
   "execution_count": 73,
   "metadata": {},
   "outputs": [
    {
     "name": "stdout",
     "output_type": "stream",
     "text": [
      "['african', 'americans', 'immigrated', 'us']\n"
     ]
    }
   ],
   "source": [
    "from nltk.corpus import stopwords\n",
    "\n",
    "filtered_documents = []\n",
    "for elem in tok_documents:\n",
    "    filtered_documents.append([word for word in elem \n",
    "                    if word.lower() not in stopwords.words('english')])\n",
    "print(filtered_documents[0])\n"
   ]
  },
  {
   "cell_type": "code",
   "execution_count": 74,
   "metadata": {},
   "outputs": [
    {
     "name": "stdout",
     "output_type": "stream",
     "text": [
      "['african', 'american', 'immigrated', 'u']\n"
     ]
    }
   ],
   "source": [
    "from nltk.stem import WordNetLemmatizer\n",
    "\n",
    "lemmer = WordNetLemmatizer()\n",
    "lemed_documents = []\n",
    "for elem in filtered_documents:\n",
    "    lemed_documents.append([lemmer.lemmatize(word) for word in elem])\n",
    "\n",
    "print(lemed_documents[0])"
   ]
  },
  {
   "cell_type": "code",
   "execution_count": 75,
   "metadata": {},
   "outputs": [
    {
     "name": "stdout",
     "output_type": "stream",
     "text": [
      "2304\n"
     ]
    }
   ],
   "source": [
    "vocabulary = []\n",
    "for elem in lemed_documents:\n",
    "    for word in elem:\n",
    "        if word not in vocabulary:\n",
    "            vocabulary.append(word)\n",
    "\n",
    "print(len(vocabulary))"
   ]
  },
  {
   "cell_type": "code",
   "execution_count": 79,
   "metadata": {},
   "outputs": [
    {
     "name": "stdout",
     "output_type": "stream",
     "text": [
      "[0. 0. 0. 0. 0. 0. 0. 0. 0. 0.]\n"
     ]
    }
   ],
   "source": [
    "import numpy as np\n",
    "\n",
    "bow = {}\n",
    "counter = 0\n",
    "for q in lemed_documents:\n",
    "    bow[counter] = np.zeros(len(vocabulary))\n",
    "    for word in q:\n",
    "        index = vocabulary.index(word)\n",
    "        bow[counter][index] += 1\n",
    "    counter += 1\n",
    "print(bow[10][10:20])\n",
    "    "
   ]
  },
  {
   "cell_type": "markdown",
   "metadata": {},
   "source": [
    "## Query preprocessing"
   ]
  },
  {
   "cell_type": "code",
   "execution_count": 48,
   "metadata": {},
   "outputs": [
    {
     "name": "stdout",
     "output_type": "stream",
     "text": [
      "['how', 'are', 'antibodies', 'used']\n",
      "[('how', 'ADV'), ('are', 'VERB'), ('antibodies', 'NOUN'), ('used', 'VERB')]\n",
      "['how', 'are', 'antibodi', 'use']\n",
      "['antibodi', 'use']\n"
     ]
    }
   ],
   "source": [
    "import nltk\n",
    "from nltk.corpus import stopwords\n",
    "from nltk.stem.snowball import SnowballStemmer\n",
    "\n",
    "\n",
    "\n",
    "query = \"how are antibodies used\"\n",
    "\n",
    "tokenized_query = nltk.word_tokenize(query)\n",
    "print(tokenized_query)\n",
    "tagged_response = nltk.pos_tag(tokenized_query, tagset=\"universal\")\n",
    "print(tagged_response)\n",
    "sb_stemmer = SnowballStemmer('english')\n",
    "stemmed_response = [sb_stemmer.stem(word) for word in tokenized_query]\n",
    "print(stemmed_response)\n",
    "tokens_without_sw = [word.lower() for word in stemmed_response if not word in stopwords.words()]\n",
    "print(tokens_without_sw)\n",
    "\n"
   ]
  },
  {
   "cell_type": "code",
   "execution_count": 68,
   "metadata": {},
   "outputs": [
    {
     "name": "stdout",
     "output_type": "stream",
     "text": [
      "['how', 'are', 'antibodies', 'used']\n",
      "[('how', 'ADV'), ('are', 'VERB'), ('antibodies', 'NOUN'), ('used', 'VERB')]\n",
      "['how', 'are', 'antibody', 'used']\n",
      "['antibody', 'used']\n"
     ]
    }
   ],
   "source": [
    "import nltk\n",
    "from nltk.corpus import stopwords\n",
    "from nltk.stem import WordNetLemmatizer\n",
    "\n",
    "\n",
    "query = \"how are antibodies used\"\n",
    "\n",
    "tokenized_query = nltk.word_tokenize(query)\n",
    "print(tokenized_query)\n",
    "\n",
    "tagged_response = nltk.pos_tag(tokenized_query, tagset=\"universal\")\n",
    "print(tagged_response)\n",
    "\n",
    "lemmer = WordNetLemmatizer()\n",
    "Lemed_response = [lemmer.lemmatize(word) for word in tokenized_query]\n",
    "print(Lemed_response)\n",
    "\n",
    "tokens_without_sw = [word.lower() for word in Lemed_response if not word in stopwords.words()]\n",
    "print(tokens_without_sw)\n",
    "\n"
   ]
  }
 ],
 "metadata": {
  "interpreter": {
   "hash": "eb6471874663633da23371897daeb28f6ac799be2c2c93163f2eea578506204f"
  },
  "kernelspec": {
   "display_name": "Python 3.7.11 64-bit ('ml': conda)",
   "language": "python",
   "name": "python3"
  },
  "language_info": {
   "codemirror_mode": {
    "name": "ipython",
    "version": 3
   },
   "file_extension": ".py",
   "mimetype": "text/x-python",
   "name": "python",
   "nbconvert_exporter": "python",
   "pygments_lexer": "ipython3",
   "version": "3.7.11"
  },
  "orig_nbformat": 4
 },
 "nbformat": 4,
 "nbformat_minor": 2
}
